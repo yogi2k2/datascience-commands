{
 "cells": [
  {
   "cell_type": "code",
   "execution_count": 3,
   "id": "d3452ebd",
   "metadata": {},
   "outputs": [],
   "source": [
    "a=10\n",
    "b=5"
   ]
  },
  {
   "cell_type": "code",
   "execution_count": 4,
   "id": "aa1156cf",
   "metadata": {},
   "outputs": [],
   "source": [
    "a=10"
   ]
  },
  {
   "cell_type": "code",
   "execution_count": 5,
   "id": "58923e90",
   "metadata": {},
   "outputs": [],
   "source": [
    "b=5.6"
   ]
  },
  {
   "cell_type": "code",
   "execution_count": 6,
   "id": "d2778797",
   "metadata": {},
   "outputs": [
    {
     "data": {
      "text/plain": [
       "10"
      ]
     },
     "execution_count": 6,
     "metadata": {},
     "output_type": "execute_result"
    }
   ],
   "source": [
    "a"
   ]
  },
  {
   "cell_type": "code",
   "execution_count": 7,
   "id": "14163a5c",
   "metadata": {},
   "outputs": [],
   "source": [
    "str=\"hello welcome\""
   ]
  },
  {
   "cell_type": "code",
   "execution_count": 8,
   "id": "f606f24e",
   "metadata": {},
   "outputs": [
    {
     "data": {
      "text/plain": [
       "'hello welcome'"
      ]
     },
     "execution_count": 8,
     "metadata": {},
     "output_type": "execute_result"
    }
   ],
   "source": [
    "str"
   ]
  },
  {
   "cell_type": "raw",
   "id": "65b32e97",
   "metadata": {},
   "source": []
  },
  {
   "cell_type": "code",
   "execution_count": 9,
   "id": "e16ceab9",
   "metadata": {},
   "outputs": [
    {
     "data": {
      "text/plain": [
       "'h'"
      ]
     },
     "execution_count": 9,
     "metadata": {},
     "output_type": "execute_result"
    }
   ],
   "source": [
    "str[0]"
   ]
  },
  {
   "cell_type": "code",
   "execution_count": 10,
   "id": "37c413b6",
   "metadata": {},
   "outputs": [
    {
     "data": {
      "text/plain": [
       "'m'"
      ]
     },
     "execution_count": 10,
     "metadata": {},
     "output_type": "execute_result"
    }
   ],
   "source": [
    "str[11]"
   ]
  },
  {
   "cell_type": "code",
   "execution_count": 11,
   "id": "42f1779c",
   "metadata": {},
   "outputs": [
    {
     "data": {
      "text/plain": [
       "'e'"
      ]
     },
     "execution_count": 11,
     "metadata": {},
     "output_type": "execute_result"
    }
   ],
   "source": [
    "str[12]"
   ]
  },
  {
   "cell_type": "code",
   "execution_count": 12,
   "id": "20206986",
   "metadata": {},
   "outputs": [
    {
     "data": {
      "text/plain": [
       "'e'"
      ]
     },
     "execution_count": 12,
     "metadata": {},
     "output_type": "execute_result"
    }
   ],
   "source": [
    "str[-1]"
   ]
  },
  {
   "cell_type": "code",
   "execution_count": 13,
   "id": "424d821b",
   "metadata": {},
   "outputs": [
    {
     "data": {
      "text/plain": [
       "'hell'"
      ]
     },
     "execution_count": 13,
     "metadata": {},
     "output_type": "execute_result"
    }
   ],
   "source": [
    "str[0:4]"
   ]
  },
  {
   "cell_type": "code",
   "execution_count": 14,
   "id": "02442867",
   "metadata": {},
   "outputs": [
    {
     "data": {
      "text/plain": [
       "'hello'"
      ]
     },
     "execution_count": 14,
     "metadata": {},
     "output_type": "execute_result"
    }
   ],
   "source": [
    "str[0:5]"
   ]
  },
  {
   "cell_type": "code",
   "execution_count": 15,
   "id": "1c911c14",
   "metadata": {},
   "outputs": [
    {
     "data": {
      "text/plain": [
       "'hello welcome'"
      ]
     },
     "execution_count": 15,
     "metadata": {},
     "output_type": "execute_result"
    }
   ],
   "source": [
    "str"
   ]
  },
  {
   "cell_type": "code",
   "execution_count": 16,
   "id": "5c666b70",
   "metadata": {},
   "outputs": [
    {
     "data": {
      "text/plain": [
       "''"
      ]
     },
     "execution_count": 16,
     "metadata": {},
     "output_type": "execute_result"
    }
   ],
   "source": [
    "str[-1:-8]"
   ]
  },
  {
   "cell_type": "code",
   "execution_count": 17,
   "id": "fc11a861",
   "metadata": {},
   "outputs": [
    {
     "data": {
      "text/plain": [
       "''"
      ]
     },
     "execution_count": 17,
     "metadata": {},
     "output_type": "execute_result"
    }
   ],
   "source": [
    "str[-1:-6]"
   ]
  },
  {
   "cell_type": "code",
   "execution_count": 18,
   "id": "4189e89e",
   "metadata": {},
   "outputs": [
    {
     "data": {
      "text/plain": [
       "''"
      ]
     },
     "execution_count": 18,
     "metadata": {},
     "output_type": "execute_result"
    }
   ],
   "source": [
    "str[-2:-8]"
   ]
  },
  {
   "cell_type": "code",
   "execution_count": 19,
   "id": "0a4fc4d2",
   "metadata": {},
   "outputs": [
    {
     "data": {
      "text/plain": [
       "'welcome'"
      ]
     },
     "execution_count": 19,
     "metadata": {},
     "output_type": "execute_result"
    }
   ],
   "source": [
    "str[-7::]"
   ]
  },
  {
   "cell_type": "code",
   "execution_count": 20,
   "id": "0f59826b",
   "metadata": {},
   "outputs": [
    {
     "data": {
      "text/plain": [
       "'e'"
      ]
     },
     "execution_count": 20,
     "metadata": {},
     "output_type": "execute_result"
    }
   ],
   "source": [
    "str[-1::]"
   ]
  },
  {
   "cell_type": "code",
   "execution_count": null,
   "id": "ea70fbc3",
   "metadata": {},
   "outputs": [],
   "source": []
  }
 ],
 "metadata": {
  "kernelspec": {
   "display_name": "Python 3 (ipykernel)",
   "language": "python",
   "name": "python3"
  },
  "language_info": {
   "codemirror_mode": {
    "name": "ipython",
    "version": 3
   },
   "file_extension": ".py",
   "mimetype": "text/x-python",
   "name": "python",
   "nbconvert_exporter": "python",
   "pygments_lexer": "ipython3",
   "version": "3.9.13"
  }
 },
 "nbformat": 4,
 "nbformat_minor": 5
}
