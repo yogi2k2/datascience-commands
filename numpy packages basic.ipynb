{
 "cells": [
  {
   "cell_type": "code",
   "execution_count": 1,
   "id": "d6be473a",
   "metadata": {},
   "outputs": [],
   "source": [
    "#Day 2"
   ]
  },
  {
   "cell_type": "code",
   "execution_count": 2,
   "id": "4f6747cb",
   "metadata": {},
   "outputs": [],
   "source": [
    "#BRANCHING AND LOOPING STATEMENTS"
   ]
  },
  {
   "cell_type": "code",
   "execution_count": 3,
   "id": "735c84f0",
   "metadata": {},
   "outputs": [
    {
     "name": "stdout",
     "output_type": "stream",
     "text": [
      "1\n",
      "2\n",
      "3\n",
      "4\n",
      "5\n",
      "6\n",
      "7\n",
      "8\n",
      "9\n",
      "10\n",
      "11\n",
      "12\n",
      "13\n",
      "14\n",
      "15\n",
      "16\n",
      "17\n",
      "18\n",
      "19\n",
      "20\n"
     ]
    }
   ],
   "source": [
    "#Display values from 1 to 20 using for loop\n",
    "#Looping statement should end with colon\n",
    "for i  in range(1,21):\n",
    "    print(i)"
   ]
  },
  {
   "cell_type": "code",
   "execution_count": 4,
   "id": "8060395d",
   "metadata": {},
   "outputs": [
    {
     "name": "stdout",
     "output_type": "stream",
     "text": [
      "hello welcome\n",
      "thank you\n",
      "hello welcome\n",
      "thank you\n",
      "hello welcome\n",
      "thank you\n",
      "hello welcome\n",
      "thank you\n",
      "hello welcome\n",
      "thank you\n",
      "hello welcome\n",
      "thank you\n",
      "hello welcome\n",
      "thank you\n",
      "hello welcome\n",
      "thank you\n",
      "hello welcome\n",
      "thank you\n",
      "hello welcome\n",
      "thank you\n"
     ]
    }
   ],
   "source": [
    "#while loop to print many times\n",
    "#declare i \n",
    "i=0\n",
    "while(i<10):\n",
    "    print(\"hello welcome\")\n",
    "    i=i+1\n",
    "    print(\"thank you\")"
   ]
  },
  {
   "cell_type": "code",
   "execution_count": 5,
   "id": "05bb1e56",
   "metadata": {},
   "outputs": [],
   "source": [
    "#function definition and declaration\n",
    "#keyword def is used\n",
    "#function with no argument\n",
    "def cse():\n",
    "    print(\"welcome\")\n",
    "    return "
   ]
  },
  {
   "cell_type": "code",
   "execution_count": 6,
   "id": "c842648b",
   "metadata": {},
   "outputs": [
    {
     "name": "stdout",
     "output_type": "stream",
     "text": [
      "welcome\n"
     ]
    }
   ],
   "source": [
    "#function call\n",
    "cse()"
   ]
  },
  {
   "cell_type": "code",
   "execution_count": 7,
   "id": "01222ea4",
   "metadata": {},
   "outputs": [],
   "source": [
    "str=\"welcome\""
   ]
  },
  {
   "cell_type": "code",
   "execution_count": 8,
   "id": "2ecdf687",
   "metadata": {},
   "outputs": [
    {
     "data": {
      "text/plain": [
       "'welcome'"
      ]
     },
     "execution_count": 8,
     "metadata": {},
     "output_type": "execute_result"
    }
   ],
   "source": [
    "str"
   ]
  },
  {
   "cell_type": "code",
   "execution_count": 9,
   "id": "7583d297",
   "metadata": {},
   "outputs": [],
   "source": [
    "#function with argument\n",
    "def cse(str):\n",
    "    print(str)\n",
    "    return "
   ]
  },
  {
   "cell_type": "code",
   "execution_count": 10,
   "id": "b99416e7",
   "metadata": {},
   "outputs": [
    {
     "ename": "TypeError",
     "evalue": "cse() missing 1 required positional argument: 'str'",
     "output_type": "error",
     "traceback": [
      "\u001b[1;31m---------------------------------------------------------------------------\u001b[0m",
      "\u001b[1;31mTypeError\u001b[0m                                 Traceback (most recent call last)",
      "\u001b[1;32m~\\AppData\\Local\\Temp\\ipykernel_6316\\3618019023.py\u001b[0m in \u001b[0;36m<module>\u001b[1;34m\u001b[0m\n\u001b[1;32m----> 1\u001b[1;33m \u001b[0mcse\u001b[0m\u001b[1;33m(\u001b[0m\u001b[1;33m)\u001b[0m\u001b[1;33m\u001b[0m\u001b[1;33m\u001b[0m\u001b[0m\n\u001b[0m\u001b[0;32m      2\u001b[0m \u001b[1;31m#for argument function pass argument\u001b[0m\u001b[1;33m\u001b[0m\u001b[1;33m\u001b[0m\u001b[0m\n",
      "\u001b[1;31mTypeError\u001b[0m: cse() missing 1 required positional argument: 'str'"
     ]
    }
   ],
   "source": [
    "cse()\n",
    "#for argument function pass argument"
   ]
  },
  {
   "cell_type": "code",
   "execution_count": 11,
   "id": "ef3466fa",
   "metadata": {},
   "outputs": [
    {
     "name": "stdout",
     "output_type": "stream",
     "text": [
      "welcome\n"
     ]
    }
   ],
   "source": [
    "cse(str)"
   ]
  },
  {
   "cell_type": "code",
   "execution_count": 12,
   "id": "a212959a",
   "metadata": {},
   "outputs": [],
   "source": [
    "a=10"
   ]
  },
  {
   "cell_type": "code",
   "execution_count": 13,
   "id": "8a8d1cc4",
   "metadata": {},
   "outputs": [],
   "source": [
    "#print string 'a' number of times\n",
    "def cse(str,a):\n",
    "    print(str*a)\n",
    "    return "
   ]
  },
  {
   "cell_type": "code",
   "execution_count": 14,
   "id": "5bd2020e",
   "metadata": {},
   "outputs": [
    {
     "name": "stdout",
     "output_type": "stream",
     "text": [
      "welcomewelcomewelcomewelcomewelcomewelcomewelcomewelcomewelcomewelcome\n"
     ]
    }
   ],
   "source": [
    "cse(str,a)"
   ]
  },
  {
   "cell_type": "code",
   "execution_count": 15,
   "id": "251e8f53",
   "metadata": {},
   "outputs": [],
   "source": [
    "#NUMPY PACKAGE - Numerical Python\n",
    "#including numpy package, use import statement\n",
    "import numpy as np\n",
    "#np is a user defined variable"
   ]
  },
  {
   "cell_type": "code",
   "execution_count": 16,
   "id": "12ed2157",
   "metadata": {},
   "outputs": [],
   "source": [
    "#for creating an array in py\n",
    "#int a[10] - 1D, a[10][10] - 2D, a[10][10][10] -multiD\n",
    "a=np.array([1,2,3,4,5,6])"
   ]
  },
  {
   "cell_type": "code",
   "execution_count": 17,
   "id": "67413666",
   "metadata": {},
   "outputs": [
    {
     "data": {
      "text/plain": [
       "array([1, 2, 3, 4, 5, 6])"
      ]
     },
     "execution_count": 17,
     "metadata": {},
     "output_type": "execute_result"
    }
   ],
   "source": [
    "a"
   ]
  },
  {
   "cell_type": "code",
   "execution_count": 18,
   "id": "c5f7480c",
   "metadata": {},
   "outputs": [
    {
     "data": {
      "text/plain": [
       "1"
      ]
     },
     "execution_count": 18,
     "metadata": {},
     "output_type": "execute_result"
    }
   ],
   "source": [
    "#ndim - to verify the dimension of array\n",
    "a.ndim"
   ]
  },
  {
   "cell_type": "code",
   "execution_count": 19,
   "id": "e788888e",
   "metadata": {},
   "outputs": [],
   "source": [
    "b=np.array([[1,2,3,4,5],[6,7,8,9,10]])"
   ]
  },
  {
   "cell_type": "code",
   "execution_count": 20,
   "id": "67875fcc",
   "metadata": {},
   "outputs": [
    {
     "data": {
      "text/plain": [
       "array([[ 1,  2,  3,  4,  5],\n",
       "       [ 6,  7,  8,  9, 10]])"
      ]
     },
     "execution_count": 20,
     "metadata": {},
     "output_type": "execute_result"
    }
   ],
   "source": [
    "b"
   ]
  },
  {
   "cell_type": "code",
   "execution_count": 21,
   "id": "7c3de261",
   "metadata": {},
   "outputs": [],
   "source": [
    "b1=np.array([[1,2,3],[4,5,6],[7,8,9]])"
   ]
  },
  {
   "cell_type": "code",
   "execution_count": 22,
   "id": "de0a68f7",
   "metadata": {},
   "outputs": [
    {
     "data": {
      "text/plain": [
       "array([[1, 2, 3],\n",
       "       [4, 5, 6],\n",
       "       [7, 8, 9]])"
      ]
     },
     "execution_count": 22,
     "metadata": {},
     "output_type": "execute_result"
    }
   ],
   "source": [
    "b1"
   ]
  },
  {
   "cell_type": "code",
   "execution_count": 23,
   "id": "8cdb0007",
   "metadata": {},
   "outputs": [
    {
     "data": {
      "text/plain": [
       "2"
      ]
     },
     "execution_count": 23,
     "metadata": {},
     "output_type": "execute_result"
    }
   ],
   "source": [
    "b1.ndim"
   ]
  },
  {
   "cell_type": "code",
   "execution_count": 24,
   "id": "752948e8",
   "metadata": {},
   "outputs": [],
   "source": [
    "#create array using range function\n",
    "c=np.arange(10,30)"
   ]
  },
  {
   "cell_type": "code",
   "execution_count": 26,
   "id": "97f088f3",
   "metadata": {},
   "outputs": [
    {
     "data": {
      "text/plain": [
       "array([10, 11, 12, 13, 14, 15, 16, 17, 18, 19, 20, 21, 22, 23, 24, 25, 26,\n",
       "       27, 28, 29])"
      ]
     },
     "execution_count": 26,
     "metadata": {},
     "output_type": "execute_result"
    }
   ],
   "source": [
    "c"
   ]
  },
  {
   "cell_type": "code",
   "execution_count": 27,
   "id": "a73bb0f7",
   "metadata": {},
   "outputs": [],
   "source": [
    "#use step value also\n",
    "d=np.arange(10,30,2)"
   ]
  },
  {
   "cell_type": "code",
   "execution_count": 28,
   "id": "beed3ffa",
   "metadata": {},
   "outputs": [
    {
     "data": {
      "text/plain": [
       "array([10, 12, 14, 16, 18, 20, 22, 24, 26, 28])"
      ]
     },
     "execution_count": 28,
     "metadata": {},
     "output_type": "execute_result"
    }
   ],
   "source": [
    "d"
   ]
  },
  {
   "cell_type": "code",
   "execution_count": 29,
   "id": "154580fc",
   "metadata": {},
   "outputs": [],
   "source": [
    "#make 1D to 2D\n",
    "d.shape=(2,5)"
   ]
  },
  {
   "cell_type": "code",
   "execution_count": 30,
   "id": "bea509ec",
   "metadata": {},
   "outputs": [
    {
     "data": {
      "text/plain": [
       "array([[10, 12, 14, 16, 18],\n",
       "       [20, 22, 24, 26, 28]])"
      ]
     },
     "execution_count": 30,
     "metadata": {},
     "output_type": "execute_result"
    }
   ],
   "source": [
    "d"
   ]
  },
  {
   "cell_type": "code",
   "execution_count": 31,
   "id": "02d5350c",
   "metadata": {},
   "outputs": [],
   "source": [
    "#printing random array using empty function\n",
    "x=np.empty([3,2],dtype=int)"
   ]
  },
  {
   "cell_type": "code",
   "execution_count": 33,
   "id": "ee9f7de5",
   "metadata": {},
   "outputs": [
    {
     "data": {
      "text/plain": [
       "array([[4915277, 6225996],\n",
       "       [4522070, 4325458],\n",
       "       [5439567,      69]])"
      ]
     },
     "execution_count": 33,
     "metadata": {},
     "output_type": "execute_result"
    }
   ],
   "source": [
    "x"
   ]
  },
  {
   "cell_type": "code",
   "execution_count": 34,
   "id": "8aeb8ccc",
   "metadata": {},
   "outputs": [],
   "source": [
    "#zeros array with zeros fn\n",
    "x=np.zeros(10)"
   ]
  },
  {
   "cell_type": "code",
   "execution_count": 35,
   "id": "a063512c",
   "metadata": {},
   "outputs": [
    {
     "data": {
      "text/plain": [
       "array([0., 0., 0., 0., 0., 0., 0., 0., 0., 0.])"
      ]
     },
     "execution_count": 35,
     "metadata": {},
     "output_type": "execute_result"
    }
   ],
   "source": [
    "x"
   ]
  },
  {
   "cell_type": "code",
   "execution_count": 36,
   "id": "c8bb22a6",
   "metadata": {},
   "outputs": [],
   "source": [
    "#print one with ones fn\n",
    "x=np.ones(10)"
   ]
  },
  {
   "cell_type": "code",
   "execution_count": 37,
   "id": "c7e732d4",
   "metadata": {},
   "outputs": [
    {
     "data": {
      "text/plain": [
       "array([1., 1., 1., 1., 1., 1., 1., 1., 1., 1.])"
      ]
     },
     "execution_count": 37,
     "metadata": {},
     "output_type": "execute_result"
    }
   ],
   "source": [
    "x"
   ]
  },
  {
   "cell_type": "code",
   "execution_count": 38,
   "id": "0f25390c",
   "metadata": {},
   "outputs": [],
   "source": [
    "#2D array of 12 elements\n",
    "t=np.array([[1,2,3],[4,5,6],[7,8,9],[10,11,12]])"
   ]
  },
  {
   "cell_type": "code",
   "execution_count": 39,
   "id": "c53c5adf",
   "metadata": {},
   "outputs": [
    {
     "data": {
      "text/plain": [
       "array([[ 1,  2,  3],\n",
       "       [ 4,  5,  6],\n",
       "       [ 7,  8,  9],\n",
       "       [10, 11, 12]])"
      ]
     },
     "execution_count": 39,
     "metadata": {},
     "output_type": "execute_result"
    }
   ],
   "source": [
    "t"
   ]
  },
  {
   "cell_type": "code",
   "execution_count": 40,
   "id": "7fe265df",
   "metadata": {},
   "outputs": [
    {
     "data": {
      "text/plain": [
       "array([1, 2, 3])"
      ]
     },
     "execution_count": 40,
     "metadata": {},
     "output_type": "execute_result"
    }
   ],
   "source": [
    "#array slicing\n",
    "t[0]"
   ]
  },
  {
   "cell_type": "code",
   "execution_count": 41,
   "id": "1d5987be",
   "metadata": {},
   "outputs": [
    {
     "data": {
      "text/plain": [
       "array([4, 5, 6])"
      ]
     },
     "execution_count": 41,
     "metadata": {},
     "output_type": "execute_result"
    }
   ],
   "source": [
    "t[1]"
   ]
  },
  {
   "cell_type": "code",
   "execution_count": 42,
   "id": "5e10244a",
   "metadata": {},
   "outputs": [
    {
     "data": {
      "text/plain": [
       "array([[4, 5, 6],\n",
       "       [7, 8, 9]])"
      ]
     },
     "execution_count": 42,
     "metadata": {},
     "output_type": "execute_result"
    }
   ],
   "source": [
    "t[1:3] #or t[1][3]"
   ]
  },
  {
   "cell_type": "code",
   "execution_count": 43,
   "id": "22910cad",
   "metadata": {},
   "outputs": [
    {
     "data": {
      "text/plain": [
       "9"
      ]
     },
     "execution_count": 43,
     "metadata": {},
     "output_type": "execute_result"
    }
   ],
   "source": [
    "t[2,2] #t[2][2]"
   ]
  },
  {
   "cell_type": "code",
   "execution_count": 44,
   "id": "2c0a04f2",
   "metadata": {},
   "outputs": [
    {
     "data": {
      "text/plain": [
       "11"
      ]
     },
     "execution_count": 44,
     "metadata": {},
     "output_type": "execute_result"
    }
   ],
   "source": [
    "t[3,1] #t[3][1]"
   ]
  },
  {
   "cell_type": "code",
   "execution_count": null,
   "id": "1742f9a7",
   "metadata": {},
   "outputs": [],
   "source": []
  }
 ],
 "metadata": {
  "kernelspec": {
   "display_name": "Python 3 (ipykernel)",
   "language": "python",
   "name": "python3"
  },
  "language_info": {
   "codemirror_mode": {
    "name": "ipython",
    "version": 3
   },
   "file_extension": ".py",
   "mimetype": "text/x-python",
   "name": "python",
   "nbconvert_exporter": "python",
   "pygments_lexer": "ipython3",
   "version": "3.9.13"
  }
 },
 "nbformat": 4,
 "nbformat_minor": 5
}
