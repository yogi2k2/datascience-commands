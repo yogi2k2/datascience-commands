{
 "cells": [
  {
   "cell_type": "code",
   "execution_count": 1,
   "id": "0377c4e1",
   "metadata": {},
   "outputs": [],
   "source": [
    "#Day 1 of learning"
   ]
  },
  {
   "cell_type": "code",
   "execution_count": 2,
   "id": "806bbb09",
   "metadata": {},
   "outputs": [],
   "source": [
    "a=10"
   ]
  },
  {
   "cell_type": "code",
   "execution_count": 3,
   "id": "2a4864a8",
   "metadata": {},
   "outputs": [],
   "source": [
    "b=5.5"
   ]
  },
  {
   "cell_type": "code",
   "execution_count": 4,
   "id": "ebde5d2e",
   "metadata": {},
   "outputs": [],
   "source": [
    "c=-80"
   ]
  },
  {
   "cell_type": "code",
   "execution_count": 5,
   "id": "6fb6a133",
   "metadata": {},
   "outputs": [
    {
     "data": {
      "text/plain": [
       "10"
      ]
     },
     "execution_count": 5,
     "metadata": {},
     "output_type": "execute_result"
    }
   ],
   "source": [
    "a"
   ]
  },
  {
   "cell_type": "code",
   "execution_count": 6,
   "id": "5345938b",
   "metadata": {},
   "outputs": [
    {
     "data": {
      "text/plain": [
       "5.5"
      ]
     },
     "execution_count": 6,
     "metadata": {},
     "output_type": "execute_result"
    }
   ],
   "source": [
    "b"
   ]
  },
  {
   "cell_type": "code",
   "execution_count": 7,
   "id": "959b85e1",
   "metadata": {},
   "outputs": [
    {
     "data": {
      "text/plain": [
       "-80"
      ]
     },
     "execution_count": 7,
     "metadata": {},
     "output_type": "execute_result"
    }
   ],
   "source": [
    "c"
   ]
  },
  {
   "cell_type": "raw",
   "id": "d69c154e",
   "metadata": {},
   "source": [
    "str=\"hello welcome\""
   ]
  },
  {
   "cell_type": "code",
   "execution_count": 8,
   "id": "c80ecd47",
   "metadata": {},
   "outputs": [
    {
     "data": {
      "text/plain": [
       "str"
      ]
     },
     "execution_count": 8,
     "metadata": {},
     "output_type": "execute_result"
    }
   ],
   "source": [
    "str"
   ]
  },
  {
   "cell_type": "code",
   "execution_count": 9,
   "id": "e2f79159",
   "metadata": {},
   "outputs": [],
   "source": [
    "str=\"hello welcome\""
   ]
  },
  {
   "cell_type": "code",
   "execution_count": 10,
   "id": "4a2fb6d7",
   "metadata": {},
   "outputs": [
    {
     "data": {
      "text/plain": [
       "'hello welcome'"
      ]
     },
     "execution_count": 10,
     "metadata": {},
     "output_type": "execute_result"
    }
   ],
   "source": [
    "str"
   ]
  },
  {
   "cell_type": "code",
   "execution_count": 11,
   "id": "b897f69a",
   "metadata": {},
   "outputs": [
    {
     "data": {
      "text/plain": [
       "'h'"
      ]
     },
     "execution_count": 11,
     "metadata": {},
     "output_type": "execute_result"
    }
   ],
   "source": [
    "str[0]"
   ]
  },
  {
   "cell_type": "code",
   "execution_count": 12,
   "id": "d3066fc2",
   "metadata": {},
   "outputs": [
    {
     "data": {
      "text/plain": [
       "'m'"
      ]
     },
     "execution_count": 12,
     "metadata": {},
     "output_type": "execute_result"
    }
   ],
   "source": [
    "str[11]"
   ]
  },
  {
   "cell_type": "code",
   "execution_count": 13,
   "id": "6cd28985",
   "metadata": {},
   "outputs": [
    {
     "data": {
      "text/plain": [
       "'e'"
      ]
     },
     "execution_count": 13,
     "metadata": {},
     "output_type": "execute_result"
    }
   ],
   "source": [
    "str[-1]"
   ]
  },
  {
   "cell_type": "code",
   "execution_count": 14,
   "id": "61f14799",
   "metadata": {},
   "outputs": [
    {
     "data": {
      "text/plain": [
       "'hello'"
      ]
     },
     "execution_count": 14,
     "metadata": {},
     "output_type": "execute_result"
    }
   ],
   "source": [
    "str[0:5]"
   ]
  },
  {
   "cell_type": "code",
   "execution_count": 15,
   "id": "5f2deea7",
   "metadata": {},
   "outputs": [
    {
     "data": {
      "text/plain": [
       "''"
      ]
     },
     "execution_count": 15,
     "metadata": {},
     "output_type": "execute_result"
    }
   ],
   "source": [
    "str[-1:-8]"
   ]
  },
  {
   "cell_type": "code",
   "execution_count": 16,
   "id": "6e9ea45a",
   "metadata": {},
   "outputs": [
    {
     "data": {
      "text/plain": [
       "' welcom'"
      ]
     },
     "execution_count": 16,
     "metadata": {},
     "output_type": "execute_result"
    }
   ],
   "source": [
    "str[-8:-1]"
   ]
  },
  {
   "cell_type": "code",
   "execution_count": 17,
   "id": "75616166",
   "metadata": {},
   "outputs": [
    {
     "data": {
      "text/plain": [
       "''"
      ]
     },
     "execution_count": 17,
     "metadata": {},
     "output_type": "execute_result"
    }
   ],
   "source": [
    "str[-8:0]"
   ]
  },
  {
   "cell_type": "code",
   "execution_count": 18,
   "id": "1eb7678c",
   "metadata": {},
   "outputs": [
    {
     "data": {
      "text/plain": [
       "' welcome'"
      ]
     },
     "execution_count": 18,
     "metadata": {},
     "output_type": "execute_result"
    }
   ],
   "source": [
    "str[-8:]"
   ]
  },
  {
   "cell_type": "code",
   "execution_count": 19,
   "id": "0a0759b9",
   "metadata": {},
   "outputs": [
    {
     "data": {
      "text/plain": [
       "'hello'"
      ]
     },
     "execution_count": 19,
     "metadata": {},
     "output_type": "execute_result"
    }
   ],
   "source": [
    "str[-13:-8]"
   ]
  },
  {
   "cell_type": "code",
   "execution_count": 20,
   "id": "68ab03b8",
   "metadata": {},
   "outputs": [],
   "source": [
    "str=\"hello welcome u all\""
   ]
  },
  {
   "cell_type": "code",
   "execution_count": 21,
   "id": "d3f4e977",
   "metadata": {},
   "outputs": [
    {
     "data": {
      "text/plain": [
       "'hello welcome u all'"
      ]
     },
     "execution_count": 21,
     "metadata": {},
     "output_type": "execute_result"
    }
   ],
   "source": [
    "str"
   ]
  },
  {
   "cell_type": "code",
   "execution_count": 22,
   "id": "d7f7e8f5",
   "metadata": {},
   "outputs": [
    {
     "data": {
      "text/plain": [
       "'hello welcome u allhello welcome u all'"
      ]
     },
     "execution_count": 22,
     "metadata": {},
     "output_type": "execute_result"
    }
   ],
   "source": [
    "str*2"
   ]
  },
  {
   "cell_type": "code",
   "execution_count": 23,
   "id": "fd54582d",
   "metadata": {},
   "outputs": [
    {
     "data": {
      "text/plain": [
       "19"
      ]
     },
     "execution_count": 23,
     "metadata": {},
     "output_type": "execute_result"
    }
   ],
   "source": [
    "len(str)"
   ]
  },
  {
   "cell_type": "code",
   "execution_count": 24,
   "id": "63a899b1",
   "metadata": {},
   "outputs": [
    {
     "data": {
      "text/plain": [
       "0"
      ]
     },
     "execution_count": 24,
     "metadata": {},
     "output_type": "execute_result"
    }
   ],
   "source": [
    "str.find('hel')\n",
    "#FIND - content present in the string, then output will be 0 or INDEX POSITION VALUE"
   ]
  },
  {
   "cell_type": "code",
   "execution_count": 25,
   "id": "3d432a32",
   "metadata": {},
   "outputs": [
    {
     "data": {
      "text/plain": [
       "-1"
      ]
     },
     "execution_count": 25,
     "metadata": {},
     "output_type": "execute_result"
    }
   ],
   "source": [
    "str.find('Hello')\n",
    "#FIND - content present in the string, then output will be -1"
   ]
  },
  {
   "cell_type": "code",
   "execution_count": 26,
   "id": "1223f8da",
   "metadata": {},
   "outputs": [
    {
     "data": {
      "text/plain": [
       "9"
      ]
     },
     "execution_count": 26,
     "metadata": {},
     "output_type": "execute_result"
    }
   ],
   "source": [
    "str.find('come')"
   ]
  },
  {
   "cell_type": "code",
   "execution_count": 27,
   "id": "d0e9ae10",
   "metadata": {},
   "outputs": [
    {
     "data": {
      "text/plain": [
       "6"
      ]
     },
     "execution_count": 27,
     "metadata": {},
     "output_type": "execute_result"
    }
   ],
   "source": [
    "str.find('welcome')"
   ]
  },
  {
   "cell_type": "code",
   "execution_count": 28,
   "id": "04abb842",
   "metadata": {},
   "outputs": [
    {
     "data": {
      "text/plain": [
       "-1"
      ]
     },
     "execution_count": 28,
     "metadata": {},
     "output_type": "execute_result"
    }
   ],
   "source": [
    "str.find('cse')"
   ]
  },
  {
   "cell_type": "code",
   "execution_count": 29,
   "id": "c3d7a7d3",
   "metadata": {},
   "outputs": [
    {
     "data": {
      "text/plain": [
       "'HELLO WELCOME U ALL'"
      ]
     },
     "execution_count": 29,
     "metadata": {},
     "output_type": "execute_result"
    }
   ],
   "source": [
    "str.upper()\n",
    "#capitalize"
   ]
  },
  {
   "cell_type": "code",
   "execution_count": 30,
   "id": "4f0b7bd6",
   "metadata": {},
   "outputs": [
    {
     "data": {
      "text/plain": [
       "'hello welcome u all'"
      ]
     },
     "execution_count": 30,
     "metadata": {},
     "output_type": "execute_result"
    }
   ],
   "source": [
    "str.lower()\n",
    "#smaller case"
   ]
  },
  {
   "cell_type": "code",
   "execution_count": 31,
   "id": "2639630d",
   "metadata": {},
   "outputs": [
    {
     "data": {
      "text/plain": [
       "'all'"
      ]
     },
     "execution_count": 31,
     "metadata": {},
     "output_type": "execute_result"
    }
   ],
   "source": [
    "str[-3:]"
   ]
  },
  {
   "cell_type": "code",
   "execution_count": 32,
   "id": "7ce6f8f4",
   "metadata": {},
   "outputs": [
    {
     "data": {
      "text/plain": [
       "'hlowloeual'"
      ]
     },
     "execution_count": 32,
     "metadata": {},
     "output_type": "execute_result"
    }
   ],
   "source": [
    "str[0::2]"
   ]
  },
  {
   "cell_type": "code",
   "execution_count": 33,
   "id": "a3a0939a",
   "metadata": {},
   "outputs": [
    {
     "data": {
      "text/plain": [
       "False"
      ]
     },
     "execution_count": 33,
     "metadata": {},
     "output_type": "execute_result"
    }
   ],
   "source": [
    "str in['hello'] \n",
    "#WRONG SYNTAXXXXXXXXXXXXXXXXXXXX"
   ]
  },
  {
   "cell_type": "code",
   "execution_count": 34,
   "id": "c55b69c3",
   "metadata": {},
   "outputs": [
    {
     "data": {
      "text/plain": [
       "True"
      ]
     },
     "execution_count": 34,
     "metadata": {},
     "output_type": "execute_result"
    }
   ],
   "source": [
    "'hello' in str\n",
    "#to verify if the string is present in the string"
   ]
  },
  {
   "cell_type": "code",
   "execution_count": 35,
   "id": "a064cb1f",
   "metadata": {},
   "outputs": [
    {
     "data": {
      "text/plain": [
       "'llo welcome u'"
      ]
     },
     "execution_count": 35,
     "metadata": {},
     "output_type": "execute_result"
    }
   ],
   "source": [
    "str[2:len(str)-4+4-4]\n",
    "#2:17"
   ]
  },
  {
   "cell_type": "code",
   "execution_count": 36,
   "id": "2285f9eb",
   "metadata": {},
   "outputs": [
    {
     "data": {
      "text/plain": [
       "'llo welcome u'"
      ]
     },
     "execution_count": 36,
     "metadata": {},
     "output_type": "execute_result"
    }
   ],
   "source": [
    "#Python accepts multiple operators in indexing\n",
    "str[2:len(str)-4+4-4+2-3*2-15]"
   ]
  },
  {
   "cell_type": "code",
   "execution_count": 37,
   "id": "117a529a",
   "metadata": {},
   "outputs": [
    {
     "name": "stdout",
     "output_type": "stream",
     "text": [
      "1\n",
      "2\n",
      "3\n",
      "4\n",
      "5\n",
      "6\n",
      "7\n",
      "8\n",
      "9\n",
      "10\n"
     ]
    }
   ],
   "source": [
    "#for loop to print 1 to 10\n",
    "for i in range(1,11):\n",
    "    print(i)"
   ]
  },
  {
   "cell_type": "code",
   "execution_count": 38,
   "id": "8808462b",
   "metadata": {},
   "outputs": [
    {
     "name": "stdout",
     "output_type": "stream",
     "text": [
      "1\n",
      "3\n",
      "5\n",
      "7\n",
      "9\n"
     ]
    }
   ],
   "source": [
    "#display odd numbers\n",
    "for i in range(1,11,2):\n",
    "    print(i)"
   ]
  },
  {
   "cell_type": "code",
   "execution_count": 39,
   "id": "84b45f19",
   "metadata": {},
   "outputs": [
    {
     "name": "stdout",
     "output_type": "stream",
     "text": [
      "1\n",
      "9\n"
     ]
    }
   ],
   "source": [
    "#variables can be included in range or index\n",
    "for i in range(1,11,a-2):\n",
    "    print(i)"
   ]
  },
  {
   "cell_type": "code",
   "execution_count": 40,
   "id": "b666fe25",
   "metadata": {},
   "outputs": [],
   "source": [
    "#create a list\n",
    "l1=[12,15,39.54,'hello',[12,39,25,[34,'welcome',55],'cse']]"
   ]
  },
  {
   "cell_type": "code",
   "execution_count": 41,
   "id": "0424fab2",
   "metadata": {},
   "outputs": [
    {
     "data": {
      "text/plain": [
       "[12, 15, 39.54, 'hello', [12, 39, 25, [34, 'welcome', 55], 'cse']]"
      ]
     },
     "execution_count": 41,
     "metadata": {},
     "output_type": "execute_result"
    }
   ],
   "source": [
    "l1"
   ]
  },
  {
   "cell_type": "code",
   "execution_count": 42,
   "id": "4f9d9649",
   "metadata": {},
   "outputs": [
    {
     "data": {
      "text/plain": [
       "12"
      ]
     },
     "execution_count": 42,
     "metadata": {},
     "output_type": "execute_result"
    }
   ],
   "source": [
    "l1[0]"
   ]
  },
  {
   "cell_type": "code",
   "execution_count": 43,
   "id": "a4c79580",
   "metadata": {},
   "outputs": [
    {
     "data": {
      "text/plain": [
       "'hello'"
      ]
     },
     "execution_count": 43,
     "metadata": {},
     "output_type": "execute_result"
    }
   ],
   "source": [
    "l1[3]"
   ]
  },
  {
   "cell_type": "code",
   "execution_count": 44,
   "id": "a332e9e4",
   "metadata": {},
   "outputs": [
    {
     "data": {
      "text/plain": [
       "[12, 39, 25, [34, 'welcome', 55], 'cse']"
      ]
     },
     "execution_count": 44,
     "metadata": {},
     "output_type": "execute_result"
    }
   ],
   "source": [
    "l1[4]"
   ]
  },
  {
   "cell_type": "code",
   "execution_count": 45,
   "id": "a69cf86b",
   "metadata": {},
   "outputs": [
    {
     "data": {
      "text/plain": [
       "'welcome'"
      ]
     },
     "execution_count": 45,
     "metadata": {},
     "output_type": "execute_result"
    }
   ],
   "source": [
    "l1[4][3][1]"
   ]
  },
  {
   "cell_type": "code",
   "execution_count": 46,
   "id": "48c447ca",
   "metadata": {},
   "outputs": [
    {
     "data": {
      "text/plain": [
       "'come'"
      ]
     },
     "execution_count": 46,
     "metadata": {},
     "output_type": "execute_result"
    }
   ],
   "source": [
    "#print only 'come' in 'welcome'\n",
    "l1[4][3][1][3:]"
   ]
  },
  {
   "cell_type": "code",
   "execution_count": 47,
   "id": "8ff693ed",
   "metadata": {},
   "outputs": [
    {
     "data": {
      "text/plain": [
       "'cse'"
      ]
     },
     "execution_count": 47,
     "metadata": {},
     "output_type": "execute_result"
    }
   ],
   "source": [
    "#display 'cse'\n",
    "l1[4][4]"
   ]
  },
  {
   "cell_type": "code",
   "execution_count": 48,
   "id": "463bf30c",
   "metadata": {},
   "outputs": [
    {
     "data": {
      "text/plain": [
       "'se'"
      ]
     },
     "execution_count": 48,
     "metadata": {},
     "output_type": "execute_result"
    }
   ],
   "source": [
    "l1[4][4][1:]"
   ]
  },
  {
   "cell_type": "code",
   "execution_count": 49,
   "id": "3c99cb3c",
   "metadata": {},
   "outputs": [],
   "source": [
    "str1='CSE'"
   ]
  },
  {
   "cell_type": "code",
   "execution_count": 50,
   "id": "f3daf69d",
   "metadata": {},
   "outputs": [
    {
     "data": {
      "text/plain": [
       "'CSE'"
      ]
     },
     "execution_count": 50,
     "metadata": {},
     "output_type": "execute_result"
    }
   ],
   "source": [
    "str1"
   ]
  },
  {
   "cell_type": "code",
   "execution_count": 51,
   "id": "ad7eede8",
   "metadata": {},
   "outputs": [
    {
     "data": {
      "text/plain": [
       "'hello welcome u allCSE'"
      ]
     },
     "execution_count": 51,
     "metadata": {},
     "output_type": "execute_result"
    }
   ],
   "source": [
    "str+str1"
   ]
  },
  {
   "cell_type": "code",
   "execution_count": 52,
   "id": "05c02766",
   "metadata": {},
   "outputs": [
    {
     "data": {
      "text/plain": [
       "'hello come u all'"
      ]
     },
     "execution_count": 52,
     "metadata": {},
     "output_type": "execute_result"
    }
   ],
   "source": [
    "#replace 'welcome' as 'come'\n",
    "str.replace('welcome','come')"
   ]
  },
  {
   "cell_type": "code",
   "execution_count": 53,
   "id": "2efe38a9",
   "metadata": {},
   "outputs": [
    {
     "data": {
      "text/plain": [
       "'hello welcome u all'"
      ]
     },
     "execution_count": 53,
     "metadata": {},
     "output_type": "execute_result"
    }
   ],
   "source": [
    "#even after replacing, the original value of string only. So, string is IMMUTABLE. \n",
    "#We can apply all string operations. l1But, can't change the original value of string.\n",
    "str"
   ]
  },
  {
   "cell_type": "code",
   "execution_count": 54,
   "id": "18c499e0",
   "metadata": {},
   "outputs": [
    {
     "data": {
      "text/plain": [
       "'come'"
      ]
     },
     "execution_count": 54,
     "metadata": {},
     "output_type": "execute_result"
    }
   ],
   "source": [
    "#replace 'welcome' as 'come' in list\n",
    "l1[4][3][1].replace('welcome','come') #temporary replacement"
   ]
  },
  {
   "cell_type": "code",
   "execution_count": 55,
   "id": "fe30a4b3",
   "metadata": {},
   "outputs": [
    {
     "data": {
      "text/plain": [
       "[12, 15, 39.54, 'hello', [12, 39, 25, [34, 'welcome', 55], 'cse']]"
      ]
     },
     "execution_count": 55,
     "metadata": {},
     "output_type": "execute_result"
    }
   ],
   "source": [
    "l1"
   ]
  },
  {
   "cell_type": "code",
   "execution_count": 56,
   "id": "211f4519",
   "metadata": {},
   "outputs": [],
   "source": [
    "#for permanent replace\n",
    "l1[4][3][1]='come'"
   ]
  },
  {
   "cell_type": "code",
   "execution_count": 57,
   "id": "b857b417",
   "metadata": {},
   "outputs": [
    {
     "data": {
      "text/plain": [
       "[12, 15, 39.54, 'hello', [12, 39, 25, [34, 'come', 55], 'cse']]"
      ]
     },
     "execution_count": 57,
     "metadata": {},
     "output_type": "execute_result"
    }
   ],
   "source": [
    "l1"
   ]
  },
  {
   "cell_type": "code",
   "execution_count": 58,
   "id": "c94a9c29",
   "metadata": {},
   "outputs": [],
   "source": [
    "#remove 39 from the list\n",
    "#NESTED LIST NOT COMING....................................CHECK.................USE POP KEYWORD........................\n",
    "l2=[12, 39, 25, [34, 'come', 55], 'cse']\n",
    "l2.remove(39)"
   ]
  },
  {
   "cell_type": "code",
   "execution_count": 59,
   "id": "1e64a51f",
   "metadata": {},
   "outputs": [],
   "source": [
    "l3=[12, 15, 39.54, 'hello', [12, 39, 25, [34, 'come', 55], 'cse']]\n",
    "#USE POP KEYWORD........................"
   ]
  },
  {
   "cell_type": "code",
   "execution_count": 60,
   "id": "a0e80273",
   "metadata": {},
   "outputs": [
    {
     "data": {
      "text/plain": [
       "39"
      ]
     },
     "execution_count": 60,
     "metadata": {},
     "output_type": "execute_result"
    }
   ],
   "source": [
    "l3[4].pop(1)\n",
    "#deleting element from nested list.....mention list index separately and popping element separately"
   ]
  },
  {
   "cell_type": "code",
   "execution_count": 61,
   "id": "b1227507",
   "metadata": {},
   "outputs": [
    {
     "data": {
      "text/plain": [
       "[12, 15, 39.54, 'hello', [12, 25, [34, 'come', 55], 'cse']]"
      ]
     },
     "execution_count": 61,
     "metadata": {},
     "output_type": "execute_result"
    }
   ],
   "source": [
    "l3"
   ]
  },
  {
   "cell_type": "code",
   "execution_count": 62,
   "id": "b6128935",
   "metadata": {},
   "outputs": [
    {
     "data": {
      "text/plain": [
       "[12, 25, [34, 'come', 55], 'cse']"
      ]
     },
     "execution_count": 62,
     "metadata": {},
     "output_type": "execute_result"
    }
   ],
   "source": [
    "l2"
   ]
  },
  {
   "cell_type": "code",
   "execution_count": 63,
   "id": "a47b870c",
   "metadata": {},
   "outputs": [],
   "source": [
    "#insert 'welcome' after 'hello' in list\n",
    "l1.insert(4,'welcome')"
   ]
  },
  {
   "cell_type": "code",
   "execution_count": 64,
   "id": "1a5b49bb",
   "metadata": {},
   "outputs": [
    {
     "data": {
      "text/plain": [
       "[12, 15, 39.54, 'hello', 'welcome', [12, 39, 25, [34, 'come', 55], 'cse']]"
      ]
     },
     "execution_count": 64,
     "metadata": {},
     "output_type": "execute_result"
    }
   ],
   "source": [
    "l1"
   ]
  },
  {
   "cell_type": "code",
   "execution_count": 65,
   "id": "ba0510de",
   "metadata": {},
   "outputs": [],
   "source": [
    "l1.remove('welcome')"
   ]
  },
  {
   "cell_type": "code",
   "execution_count": 66,
   "id": "2514f7b8",
   "metadata": {},
   "outputs": [
    {
     "data": {
      "text/plain": [
       "[12, 15, 39.54, 'hello', [12, 39, 25, [34, 'come', 55], 'cse']]"
      ]
     },
     "execution_count": 66,
     "metadata": {},
     "output_type": "execute_result"
    }
   ],
   "source": [
    "l1"
   ]
  },
  {
   "cell_type": "code",
   "execution_count": 67,
   "id": "f74729e6",
   "metadata": {},
   "outputs": [],
   "source": [
    "l1[4]='welcome'"
   ]
  },
  {
   "cell_type": "code",
   "execution_count": 68,
   "id": "bbc97b3b",
   "metadata": {},
   "outputs": [
    {
     "data": {
      "text/plain": [
       "[12, 15, 39.54, 'hello', 'welcome']"
      ]
     },
     "execution_count": 68,
     "metadata": {},
     "output_type": "execute_result"
    }
   ],
   "source": [
    "l1"
   ]
  },
  {
   "cell_type": "code",
   "execution_count": 69,
   "id": "4707ae47",
   "metadata": {},
   "outputs": [
    {
     "data": {
      "text/plain": [
       "['hello', 'welcome', 'u', 'all']"
      ]
     },
     "execution_count": 69,
     "metadata": {},
     "output_type": "execute_result"
    }
   ],
   "source": [
    "#split string using the SPLIT statement\n",
    "str.split(' ',4)"
   ]
  },
  {
   "cell_type": "code",
   "execution_count": 70,
   "id": "d0cf5be8",
   "metadata": {},
   "outputs": [],
   "source": [
    "#create dictionary \n",
    "dict={'name':\"CSE\",'address':\"Chennai\",'mobile number':1234567890}"
   ]
  },
  {
   "cell_type": "code",
   "execution_count": 71,
   "id": "9d96ac21",
   "metadata": {},
   "outputs": [
    {
     "data": {
      "text/plain": [
       "{'name': 'CSE', 'address': 'Chennai', 'mobile number': 1234567890}"
      ]
     },
     "execution_count": 71,
     "metadata": {},
     "output_type": "execute_result"
    }
   ],
   "source": [
    "dict"
   ]
  },
  {
   "cell_type": "code",
   "execution_count": 72,
   "id": "f148e17f",
   "metadata": {},
   "outputs": [
    {
     "data": {
      "text/plain": [
       "'CSE'"
      ]
     },
     "execution_count": 72,
     "metadata": {},
     "output_type": "execute_result"
    }
   ],
   "source": [
    "dict['name']"
   ]
  },
  {
   "cell_type": "code",
   "execution_count": 73,
   "id": "73429150",
   "metadata": {},
   "outputs": [
    {
     "data": {
      "text/plain": [
       "'Chennai'"
      ]
     },
     "execution_count": 73,
     "metadata": {},
     "output_type": "execute_result"
    }
   ],
   "source": [
    "dict['address']"
   ]
  },
  {
   "cell_type": "code",
   "execution_count": 74,
   "id": "537243e3",
   "metadata": {},
   "outputs": [
    {
     "data": {
      "text/plain": [
       "1234567890"
      ]
     },
     "execution_count": 74,
     "metadata": {},
     "output_type": "execute_result"
    }
   ],
   "source": [
    "dict['mobile number']"
   ]
  },
  {
   "cell_type": "code",
   "execution_count": 75,
   "id": "d697798f",
   "metadata": {},
   "outputs": [
    {
     "data": {
      "text/plain": [
       "3"
      ]
     },
     "execution_count": 75,
     "metadata": {},
     "output_type": "execute_result"
    }
   ],
   "source": [
    "len(dict)"
   ]
  },
  {
   "cell_type": "code",
   "execution_count": 76,
   "id": "f20d0afe",
   "metadata": {},
   "outputs": [],
   "source": [
    "dict1=dict.copy"
   ]
  },
  {
   "cell_type": "code",
   "execution_count": 77,
   "id": "0fa29d7f",
   "metadata": {},
   "outputs": [
    {
     "data": {
      "text/plain": [
       "<function dict.copy>"
      ]
     },
     "execution_count": 77,
     "metadata": {},
     "output_type": "execute_result"
    }
   ],
   "source": [
    "dict1"
   ]
  },
  {
   "cell_type": "code",
   "execution_count": 78,
   "id": "dd2e5413",
   "metadata": {},
   "outputs": [
    {
     "data": {
      "text/plain": [
       "{'name': 'CSE', 'address': 'Chennai', 'mobile number': 1234567890}"
      ]
     },
     "execution_count": 78,
     "metadata": {},
     "output_type": "execute_result"
    }
   ],
   "source": [
    "dict1()"
   ]
  },
  {
   "cell_type": "code",
   "execution_count": 79,
   "id": "8920f89c",
   "metadata": {},
   "outputs": [
    {
     "data": {
      "text/plain": [
       "dict_values(['CSE', 'Chennai', 1234567890])"
      ]
     },
     "execution_count": 79,
     "metadata": {},
     "output_type": "execute_result"
    }
   ],
   "source": [
    "dict.values()"
   ]
  },
  {
   "cell_type": "code",
   "execution_count": 80,
   "id": "3fa4f897",
   "metadata": {},
   "outputs": [
    {
     "data": {
      "text/plain": [
       "dict_keys(['name', 'address', 'mobile number'])"
      ]
     },
     "execution_count": 80,
     "metadata": {},
     "output_type": "execute_result"
    }
   ],
   "source": [
    "dict.keys()"
   ]
  },
  {
   "cell_type": "code",
   "execution_count": null,
   "id": "d78fbd0d",
   "metadata": {},
   "outputs": [],
   "source": []
  }
 ],
 "metadata": {
  "kernelspec": {
   "display_name": "Python 3 (ipykernel)",
   "language": "python",
   "name": "python3"
  },
  "language_info": {
   "codemirror_mode": {
    "name": "ipython",
    "version": 3
   },
   "file_extension": ".py",
   "mimetype": "text/x-python",
   "name": "python",
   "nbconvert_exporter": "python",
   "pygments_lexer": "ipython3",
   "version": "3.9.13"
  }
 },
 "nbformat": 4,
 "nbformat_minor": 5
}
